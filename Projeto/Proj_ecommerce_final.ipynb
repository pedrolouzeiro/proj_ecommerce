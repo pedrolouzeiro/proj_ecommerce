{
 "cells": [
  {
   "cell_type": "code",
   "execution_count": null,
   "id": "dc2c2e19",
   "metadata": {},
   "outputs": [],
   "source": [
    "import pandas as pd\n",
    "import numpy as np\n",
    "import warnings\n",
    "\n",
    "# Filtrando o avisos\n",
    "warnings.filterwarnings('ignore')\n",
    "\n",
    "import matplotlib.pyplot as plt\n",
    "from mlxtend.frequent_patterns import apriori, association_rules\n",
    "from mlxtend.preprocessing import TransactionEncoder\n",
    "from prophet import Prophet\n",
    "import joblib\n"
   ]
  },
  {
   "cell_type": "code",
   "execution_count": null,
   "id": "047517b1",
   "metadata": {},
   "outputs": [],
   "source": [
    "df = pd.read_csv('Dataset.csv')"
   ]
  },
  {
   "cell_type": "markdown",
   "id": "dac93604",
   "metadata": {},
   "source": [
    "## Entendendo os dados "
   ]
  },
  {
   "cell_type": "code",
   "execution_count": null,
   "id": "12894b41",
   "metadata": {
    "scrolled": false
   },
   "outputs": [],
   "source": [
    "# Mostrando informações gerais sobre o dataframe\n",
    "print(\"\\nInformações gerais sobre o dataset:\")\n",
    "print(df.info())\n",
    "\n",
    "# Mostrando estatísticas descritivas das colunas numéricas\n",
    "print(\"\\nEstatísticas descritivas das colunas numéricas:\")\n",
    "print(df.describe())\n",
    "\n",
    "# Mostrando estatísticas descritivas das colunas categóricas\n",
    "print(\"\\nEstatísticas descritivas das colunas categóricas:\")\n",
    "print(df.describe(include=['O']))\n",
    "\n",
    "# Verificando valores nulos\n",
    "print(\"\\nValores nulos no dataset:\")\n",
    "print(df.isnull().sum())\n",
    "\n",
    "# Mostrando as primeiras linhas do dataframe\n",
    "print(\"Primeiras linhas do dataset:\")\n",
    "print(df.head())"
   ]
  },
  {
   "cell_type": "markdown",
   "id": "b7ccd8d0",
   "metadata": {},
   "source": [
    "### 1. Tratamento de dados"
   ]
  },
  {
   "cell_type": "code",
   "execution_count": null,
   "id": "00574c05",
   "metadata": {},
   "outputs": [],
   "source": [
    "# Tratar valores nulos\n",
    "df['Description']=df['Description'].fillna('Descrição Indisponível')\n",
    "\n",
    "# Remover registros com CustomerID nulo, se necessário\n",
    "df = df.dropna(subset=['CustomerID'])\n",
    "\n",
    "df = df.drop_duplicates()\n",
    "\n",
    "# Filtrando valores negativos\n",
    "df = df[(df['Quantity'] > 0) & (df['UnitPrice'] > 0)]\n",
    "\n",
    "# Converter InvoiceDate para datetime\n",
    "df['InvoiceDate'] = pd.to_datetime(df['InvoiceDate'])\n",
    "\n",
    "df['InvoiceNo'] = df['InvoiceNo'].astype(int)"
   ]
  },
  {
   "cell_type": "code",
   "execution_count": null,
   "id": "f9d9eb99",
   "metadata": {
    "scrolled": false
   },
   "outputs": [],
   "source": [
    "# Mostrar as estatísticas básicas após limpeza\n",
    "print(\"Informações gerais sobre o dataset após limpeza:\")\n",
    "print(df.info())\n",
    "\n",
    "print(\"\\nEstatísticas descritivas das colunas numéricas após limpeza:\")\n",
    "print(df.describe())\n",
    "\n",
    "print(\"\\nEstatísticas descritivas das colunas categóricas após limpeza:\")\n",
    "print(df.describe(include=['O']))\n",
    "\n",
    "print(\"\\nValores nulos no dataset após limpeza:\")\n",
    "print(df.isnull().sum())"
   ]
  },
  {
   "cell_type": "markdown",
   "id": "134c4b98",
   "metadata": {},
   "source": [
    "### 2. Detecção de Anomalias\n",
    "\n",
    "    Pergunta: Existem transações suspeitas ou anômalas nas vendas?\n",
    "    Tarefa: Desenvolver um modelo para detectar transações anômalas no dataset. Considerar fatores como quantidade, preço unitário e preço total para identificar possíveis fraudes ou erros."
   ]
  },
  {
   "cell_type": "code",
   "execution_count": null,
   "id": "f02a2d85",
   "metadata": {
    "scrolled": false
   },
   "outputs": [],
   "source": [
    "# Criando coluna 'TotalPrice'\n",
    "df['TotalPrice'] = df['Quantity'] * df['UnitPrice']\n",
    "\n",
    "from sklearn.ensemble import IsolationForest\n",
    "\n",
    "# Selecionando apenas colunas numéricas para detecção de anomalias\n",
    "features = df[['Quantity', 'UnitPrice','TotalPrice','CustomerID']]\n",
    "\n",
    "# Treinando modelo de Isolation Forest\n",
    "iso_forest = IsolationForest(contamination=0.01, random_state=42)\n",
    "df['Anomalia'] = iso_forest.fit_predict(features)\n",
    "\n",
    "# Identificando transações anômalas\n",
    "anomalias = df[df['Anomalia'] == -1]\n",
    "\n",
    "df=df.drop(anomalias.index)\n"
   ]
  },
  {
   "cell_type": "markdown",
   "id": "d99e9b88",
   "metadata": {},
   "source": [
    "# Com base nos resultados das análises, foram extraídos insights valiosos que podem ser aplicados para melhorar as estratégias de marketing, otimização de estoque e retenção de clientes."
   ]
  },
  {
   "cell_type": "markdown",
   "id": "396d3f3c",
   "metadata": {},
   "source": [
    "## 1. Análise das vendas\n",
    "\n",
    "    Pergunta: Qual é a tendência de vendas ao longo do tempo?\n",
    "    Tarefa: Analisar as vendas mensais ao longo dos anos disponíveis no dataset. Criar gráficos que mostrem a tendência de vendas, identifique padrões sazonais ou variações significativas e no final criar um modelo para previsão de vendas."
   ]
  },
  {
   "cell_type": "code",
   "execution_count": null,
   "id": "fc3a81d5",
   "metadata": {
    "scrolled": false
   },
   "outputs": [],
   "source": [
    "# Análise de Tendências de Produtos\n",
    "faturamento_mensal = df.resample('M', on='InvoiceDate')['TotalPrice'].sum()\n",
    "print(\"\\nTendência Mensal de Vendas:\")\n",
    "print(faturamento_mensal)\n",
    "\n",
    "# Gráfico de Tendência de Faturamento\n",
    "plt.figure(figsize=(12,6))\n",
    "faturamento_mensal.plot(kind='line')\n",
    "plt.title('Tendência Mensal de Faturamento')\n",
    "plt.xlabel('Data')\n",
    "plt.ylabel('Total de Vendas')\n",
    "plt.show()\n",
    "\n",
    "# Tendência Mensal de Vendas dos 10 produtos mais vendidos\n",
    "top10 = df.groupby('Description')['Quantity'].sum().sort_values(ascending=False).reset_index().head(10)\n",
    "#Retirei o top 1 por se tratar de um outlier(Provável Fraude)\n",
    "print(\"\\nTop 10 Produtos mais Vendidos:\")\n",
    "print(top10)\n",
    "\n",
    "df_aux=df[['Description','Quantity','InvoiceDate','TotalPrice']]\n",
    "df_aux=df_aux[df_aux['Description'].isin(top10['Description'])]\n",
    "# Criar uma coluna para o mês e ano\n",
    "df_aux['MesAno'] = df_aux['InvoiceDate'].dt.to_period('M')\n",
    "\n",
    "# Agrupando por descrição e mês/ano e somar os preços\n",
    "mais_vendidos = df_aux.groupby(['Description', 'MesAno'])['TotalPrice'].sum().unstack(fill_value=0)\n",
    "print(\"\\nTendência Mensal de Faturamento dos 10 produtos mais vendidos:\")\n",
    "print(mais_vendidos)\n",
    "\n",
    "# Plotando o gráfico\n",
    "mais_vendidos.T.plot(kind='bar', stacked=True, figsize=(14, 8))\n",
    "plt.title('Ganho Mensal por Produto')\n",
    "plt.xlabel('Mês/Ano')\n",
    "plt.ylabel('Total Gasto')\n",
    "plt.legend(title='Descrição')\n",
    "plt.show()"
   ]
  },
  {
   "cell_type": "markdown",
   "id": "05131601",
   "metadata": {},
   "source": [
    "### Tendência mensal de vendas\n",
    "\n",
    "    Insight: As vendas tendem a aumentar significativamente em novembro, possivelmente devido às compras de fim de ano.\n",
    "    Ação: Preparar estoque adicional e lançar campanhas de marketing antecipadas para aproveitar o aumento nas vendas durante esses meses. Oferecer promoções especiais e descontos progressivos para maximizar as vendas.\n",
    "        \n",
    "### Top 10 Produtos mais Vendidos\n",
    "\n",
    "    Insight: Produtos como \"JUMBO BAG RED RETROSPOT\" e \"WORLD WAR 2 GLIDERS ASSTD DESIGNS\" são os mais vendidos, com grandes quantidades.\n",
    "    Ação: Assegurar que esses produtos estejam sempre em estoque e considerar expandir a linha de produtos relacionados a eles. Além disso, destacá-los em campanhas de marketing e nas páginas de destino do site.\n",
    "        \n",
    "### Tendência Mensal de Vendas dos 10 Produtos mais Vendidos\n",
    "\n",
    "    Insight: Há um produto, como \"POPCORN HOLDER\", que começam a ser vendidos a partir de junho, enquanto outros têm vendas mais constantes.\n",
    "    Ação: Planejar o estoque com base nas tendências de venda de cada produto. Para produtos com picos sazonais, garantir maior disponibilidade durante esses períodos específicos.\n",
    "    \n",
    "### Campanhas Sazonais e de Festividades\n",
    "        \n",
    "    Insight: Identificar picos sazonais de vendas pode ajudar a planejar campanhas de marketing mais eficazes.\n",
    "    Ação: Criar campanhas de marketing específicas para eventos sazonais e festividades, aproveitando os picos naturais de vendas. Por exemplo, campanhas de Natal, Black Friday, ou outros feriados relevantes."
   ]
  },
  {
   "cell_type": "markdown",
   "id": "eae5c57d",
   "metadata": {},
   "source": [
    "### Lista de produtos menos vendidos e que podem ser descontinuados:"
   ]
  },
  {
   "cell_type": "code",
   "execution_count": null,
   "id": "729974ac",
   "metadata": {},
   "outputs": [],
   "source": [
    "df.groupby('Description')['Quantity'].sum().sort_values(ascending=False).reset_index().tail(20)['Description'].tolist()"
   ]
  },
  {
   "cell_type": "markdown",
   "id": "08937a49",
   "metadata": {},
   "source": [
    "### Previsão de Faturamento\n",
    "\n",
    "    Pergunta: Como será o faturamento no próximo mês?\n",
    "    Tarefa: Construir um modelo de previsão de faturamento para prever o faturamento do mês seguinte. Utilizar técnicas de séries temporais e validar a acurácia do modelo com dados históricos."
   ]
  },
  {
   "cell_type": "code",
   "execution_count": null,
   "id": "5d8b7665",
   "metadata": {
    "scrolled": true
   },
   "outputs": [],
   "source": [
    "vendas_dia = df.resample('d', on='InvoiceDate')['TotalPrice'].sum()\n",
    "df_previsao = pd.DataFrame({'ds' : vendas_dia.index, 'y' : vendas_dia.values})\n",
    "\n",
    "m = Prophet()\n",
    "m.fit(df_previsao)"
   ]
  },
  {
   "cell_type": "code",
   "execution_count": null,
   "id": "86afaa46",
   "metadata": {},
   "outputs": [],
   "source": [
    "## Cálculo do erro médio"
   ]
  },
  {
   "cell_type": "code",
   "execution_count": null,
   "id": "1bc747b7",
   "metadata": {},
   "outputs": [],
   "source": [
    "from sklearn.metrics import mean_absolute_error\n",
    "previsao = m.predict(df_previsao)\n",
    "previsao[['ds', 'yhat', 'yhat_lower', 'yhat_upper']].tail()\n",
    "mean_absolute_error(df_previsao.y, previsao.yhat)"
   ]
  },
  {
   "cell_type": "markdown",
   "id": "69774a51",
   "metadata": {},
   "source": [
    "Com base nas datas passadas o previsor erra em média 5 mil acima ou abaixo do fatumento real"
   ]
  },
  {
   "cell_type": "code",
   "execution_count": null,
   "id": "db4474ab",
   "metadata": {},
   "outputs": [],
   "source": [
    "## Previsão real\n",
    "datas_e_futuro = m.make_future_dataframe(periods=30)\n",
    "previsao = m.predict(datas_e_futuro)\n",
    "previsao[['ds', 'yhat', 'yhat_lower', 'yhat_upper']].tail()\n",
    "fig1 = m.plot(previsao)"
   ]
  },
  {
   "cell_type": "code",
   "execution_count": null,
   "id": "fc4ca1d2",
   "metadata": {},
   "outputs": [],
   "source": [
    "fig2 = m.plot_components(previsao)"
   ]
  },
  {
   "cell_type": "markdown",
   "id": "42fc4181",
   "metadata": {},
   "source": [
    "Os gráficos de sazonalidade do previsor mostram o aumento de vendas no final do ano (dando razão a análise passada) e a queda de vendas na segunda-feira."
   ]
  },
  {
   "cell_type": "code",
   "execution_count": null,
   "id": "8ac1723d",
   "metadata": {},
   "outputs": [],
   "source": [
    "proximo_mes = np.round(previsao.resample('M', on='ds')['yhat'].sum().tail(1)[0],2)\n",
    "print(f'Previsão de Faturamento para o próximo mês: {proximo_mes}')"
   ]
  },
  {
   "cell_type": "markdown",
   "id": "0a071f85",
   "metadata": {},
   "source": [
    "## 2. Segmentação de Clientes\n",
    "\n",
    "    Pergunta: Quais são os diferentes segmentos de clientes baseados no valor de suas compras?\n",
    "    Tarefa: Utilizar técnicas para segmentar os clientes com base nas suas compras. Identificar e descrever os diferentes segmentos encontrados."
   ]
  },
  {
   "cell_type": "code",
   "execution_count": null,
   "id": "ad611a11",
   "metadata": {},
   "outputs": [],
   "source": [
    "# Customer Lifetime Value (CLV, total gasto por cliente) \n",
    "clv = df.groupby('CustomerID')['TotalPrice'].sum()\n",
    "print(\"\\nTop 10 CLV (Customer Lifetime Value):\")\n",
    "print(clv.sort_values(ascending=False).head(10))"
   ]
  },
  {
   "cell_type": "markdown",
   "id": "06a1e07f",
   "metadata": {},
   "source": [
    "### Customer Lifetime Value (CLV)        \n",
    "    \n",
    "    Insight: Clientes de alto CLV, como o cliente 14646.0, geram receitas significativamente maiores.\n",
    "    Ação: Além de programas VIP, realizar entrevistas ou pesquisas com esses clientes para entender melhor suas necessidades e preferências. Utilizar essas informações para personalizar ainda mais suas ofertas e campanhas."
   ]
  },
  {
   "cell_type": "markdown",
   "id": "eab86bcb",
   "metadata": {},
   "source": [
    "### Análise de Canais de Aquisição de Clientes\n",
    "        \n",
    "    Insight: Entender quais canais de marketing trazem mais clientes valiosos (com alto CLV).\n",
    "    Ação: Alocar mais recursos nos canais de aquisição mais eficazes (como publicidade paga, marketing de conteúdo, redes sociais) e otimizar ou descontinuar canais menos eficazes."
   ]
  },
  {
   "cell_type": "code",
   "execution_count": null,
   "id": "b06406df",
   "metadata": {},
   "outputs": [],
   "source": [
    "# Definindo a última data do dataset\n",
    "ultima_data = df['InvoiceDate'].max()\n",
    "\n",
    "# Segmentação RFM\n",
    "df['Recencia'] = (ultima_data - df.groupby('CustomerID')['InvoiceDate'].transform('max')).dt.days\n",
    "df['Frequencia'] = df.groupby('CustomerID')['InvoiceNo'].transform('nunique')\n",
    "df['Monetario'] = df.groupby('CustomerID')['TotalPrice'].transform('sum')\n",
    "\n",
    "# Classificação RFM\n",
    "rfm = df.groupby('CustomerID').agg({\n",
    "    'Recencia': 'min',\n",
    "    'Frequencia': 'max',\n",
    "    'Monetario': 'max'\n",
    "}).reset_index()\n",
    "\n",
    "# Categorização RFM\n",
    "rfm['R_Score'] = pd.qcut(rfm['Recencia'], 4, labels=[4, 3, 2, 1])\n",
    "rfm['F_Score'] = pd.qcut(rfm['Frequencia'].rank(method='first'), 4, labels=[1, 2, 3, 4])\n",
    "rfm['M_Score'] = pd.qcut(rfm['Monetario'], 4, labels=[1, 2, 3, 4])\n",
    "rfm['RFM_Score'] = rfm[['R_Score', 'F_Score', 'M_Score']].sum(axis=1)\n",
    "\n",
    "rfm.sort_values('RFM_Score', ascending=False)"
   ]
  },
  {
   "cell_type": "markdown",
   "id": "898705db",
   "metadata": {},
   "source": [
    "### Segmentação RFM\n",
    "\n",
    "    Insight: A análise RFM permite identificar segmentos distintos de clientes, como clientes frequentes (ex.: CustomerID 18283.0) e clientes de alto valor mas pouco frequentes.\n",
    "    Ação: Desenvolver estratégias de marketing específicas para cada segmento. Por exemplo, para clientes com alta frequência mas menor valor monetário, oferecer pacotes de produtos; para clientes de alto valor mas pouca frequência, enviar amostras de novos produtos ou descontos exclusivos."
   ]
  },
  {
   "cell_type": "markdown",
   "id": "949655f5",
   "metadata": {},
   "source": [
    "###  Análise de Frequência de Compras\n",
    "        \n",
    "    Insight: Clientes com alta frequência de compra são importantes para a receita contínua.\n",
    "    Ação: Criar um programa de assinatura ou recompensas para incentivar compras frequentes. Oferecer descontos para compras recorrentes ou assinaturas mensais/anuais de produtos."
   ]
  },
  {
   "cell_type": "markdown",
   "id": "b11657ed",
   "metadata": {},
   "source": [
    "## 3. Análise de Churn de Clientes\n",
    "\n",
    "    Pergunta: Quais clientes têm maior probabilidade de deixar de comprar na nossa plataforma?\n",
    "    Tarefa: Verificar a quantidade de clientes churned e desenvolver um modelo preditivo para identificar clientes com maior probabilidade de churn (desistência). Utilizar variáveis como frequência de compra, valor total gasto."
   ]
  },
  {
   "cell_type": "code",
   "execution_count": null,
   "id": "86493fdb",
   "metadata": {},
   "outputs": [],
   "source": [
    "# Análise de Churn de Clientes\n",
    "# Calcular o tempo desde a última compra de cada cliente\n",
    "df['UltimaCompra'] = df.groupby('CustomerID')['InvoiceDate'].transform('max')\n",
    "df['DiaDaUltimaCompra'] = (ultima_data - df['UltimaCompra']).dt.days\n",
    "\n",
    "#ID dos clientes churned\n",
    "churn = df[df['DiaDaUltimaCompra'] > 90]['CustomerID'].unique().tolist() # Definindo um limiar para considerar churn (90 dias sem compra)\n",
    "#Quantidade de clientes churned\n",
    "df[df['DiaDaUltimaCompra'] > 90]['CustomerID'].nunique()"
   ]
  },
  {
   "cell_type": "markdown",
   "id": "71468060",
   "metadata": {},
   "source": [
    "\n",
    "\n",
    "    Número de clientes churned: 1428\n",
    "\n",
    "    Insight: O número significativo de clientes que não compraram nos últimos 90 dias sugere a necessidade de estratégias de reengajamento. Campanhas de marketing direcionadas, programas de fidelidade e ofertas personalizadas podem ajudar a reduzir o churn.\n",
    "    Ação: Implementar campanhas de e-mail marketing para clientes inativos, oferecendo descontos exclusivos ou novidades que possam interessá-los.\n",
    "\n"
   ]
  },
  {
   "cell_type": "markdown",
   "id": "7b677fb8",
   "metadata": {},
   "source": [
    "### Criação do Modelo"
   ]
  },
  {
   "cell_type": "code",
   "execution_count": null,
   "id": "5d38f83f",
   "metadata": {},
   "outputs": [],
   "source": [
    "# Criando a coluna 'churn' no DataFrame rfm\n",
    "rfm['churn'] = rfm['CustomerID'].apply(lambda x: 1 if x in churn else 0)\n",
    "\n",
    "#rfm"
   ]
  },
  {
   "cell_type": "code",
   "execution_count": null,
   "id": "fece9f59",
   "metadata": {},
   "outputs": [],
   "source": [
    "from imblearn.over_sampling import SMOTE\n",
    "\n",
    "# Criando uma instância do SMOTE\n",
    "smote = SMOTE(random_state=42)\n",
    "\n",
    "# Balanceando os dados\n",
    "X, y = smote.fit_resample(rfm[['Recencia','Frequencia','Monetario']], rfm.iloc[:, 8])\n",
    "X = X[['Frequencia','Monetario']]\n",
    "# Retirei a coluna recência para evitar overfitting\n",
    "# Usei a recência no balanceamento para o algoritmo entender melhor padrões e isso resultou em um aumento de 2% na precisão em comparação a somente as 2 outras colunas "
   ]
  },
  {
   "cell_type": "code",
   "execution_count": null,
   "id": "30acedde",
   "metadata": {
    "scrolled": false
   },
   "outputs": [],
   "source": [
    "from sklearn.model_selection import StratifiedKFold\n",
    "from sklearn.ensemble import GradientBoostingClassifier\n",
    "from sklearn.metrics import classification_report\n",
    "\n",
    "# Validação Cruzada Estratificada\n",
    "skf = StratifiedKFold(n_splits=10, shuffle=True, random_state=42)\n",
    "for train_index, val_index in skf.split(X, y):\n",
    "    X_train, X_test = X.iloc[train_index], X.iloc[val_index]\n",
    "    y_train, y_test = y.iloc[train_index], y.iloc[val_index]\n",
    "     \n",
    "\n",
    "clf = GradientBoostingClassifier(random_state=42,loss='exponential')\n",
    "clf.fit(X_train, y_train)\n",
    "y_pred = clf.predict(X_test)\n",
    "\n",
    "print(classification_report(y_test, y_pred))\n",
    "print(\"=\"*60)\n",
    "    \n"
   ]
  },
  {
   "cell_type": "code",
   "execution_count": null,
   "id": "08ba07b8",
   "metadata": {},
   "outputs": [],
   "source": [
    "# Definindo os valores possíveis para cada coluna\n",
    "frequencia_values = np.random.randint(1, 6, size=10)\n",
    "monetario_values = np.random.randint(100, 1001, size=10)\n",
    "\n",
    "# Criando o DataFrame\n",
    "teste_aleatorio = pd.DataFrame({\n",
    "    'Frequencia': frequencia_values,\n",
    "    'Monetario': monetario_values\n",
    "})"
   ]
  },
  {
   "cell_type": "code",
   "execution_count": null,
   "id": "ee33cca8",
   "metadata": {},
   "outputs": [],
   "source": [
    "# Salvando o modelo\n",
    "#joblib_file = \"desistencia_modelo.pkl\"\n",
    "#joblib.dump(clf, joblib_file)"
   ]
  },
  {
   "cell_type": "code",
   "execution_count": null,
   "id": "866c421d",
   "metadata": {},
   "outputs": [],
   "source": [
    "# Carregando o modelo salvo\n",
    "desistencia = joblib.load(\"desistencia_modelo.pkl\")"
   ]
  },
  {
   "cell_type": "markdown",
   "id": "7e5c5aa1",
   "metadata": {},
   "source": [
    "Testando modelo com dados criados aleatoriamente"
   ]
  },
  {
   "cell_type": "code",
   "execution_count": null,
   "id": "565f6f1e",
   "metadata": {},
   "outputs": [],
   "source": [
    "# Definindo os valores possíveis para cada coluna\n",
    "frequencia_values = np.random.randint(1, 6, size=10)\n",
    "monetario_values = np.random.randint(100, 1001, size=10)\n",
    "\n",
    "# Criando o DataFrame\n",
    "teste_aleatorio = pd.DataFrame({\n",
    "    'Frequencia': frequencia_values,\n",
    "    'Monetario': monetario_values\n",
    "})"
   ]
  },
  {
   "cell_type": "code",
   "execution_count": null,
   "id": "d8cb945d",
   "metadata": {},
   "outputs": [],
   "source": [
    "# Fazendo previsões\n",
    "print(f\"Previsões para os seguintes dados:\\n\\n{teste_aleatorio.tail(1).to_string(index=False)}\\n\\nChance de não comprar mais: {desistencia.predict_proba(teste_aleatorio.tail(1))[:, 1][0] * 100:.2f}%\")"
   ]
  },
  {
   "cell_type": "markdown",
   "id": "3e5a4bc8",
   "metadata": {},
   "source": [
    "## 4. Recomendação de Produtos\n",
    "\n",
    "    Pergunta: Quais produtos devemos recomendar para nossos clientes?\n",
    "    Tarefa: Criar um sistema de recomendação que sugira produtos para os clientes com base em suas compras passadas e encontrar produtos frequentemente comprados juntos usando regras de associação pois podem ser combinados em pacotes ou promoções."
   ]
  },
  {
   "cell_type": "code",
   "execution_count": null,
   "id": "410e3ef7",
   "metadata": {},
   "outputs": [],
   "source": [
    "# Análise de Cesta de Compras\n",
    "lista_apriori = df.groupby('InvoiceNo')['Description'].apply(list).tolist()\n",
    "\n",
    "# Pré-Processamento\n",
    "te = TransactionEncoder()\n",
    "data_te = te.fit(lista_apriori).transform(lista_apriori)\n",
    "#data_te\n",
    "#te.columns_\n",
    "df_apriori = pd.DataFrame(data_te, columns=te.columns_)\n",
    "#df_apriori.head()\n",
    "\n",
    "# Buscando itens que aparecem juntos em pelo menos 1% dos dados\n",
    "frequent_itemsets = apriori(df_apriori, min_support = 0.01, use_colnames=True, low_memory=True)\n",
    "#frequent_itemsets['length'] = frequent_itemsets['itemsets'].apply(lambda x: len(x))\n",
    "#frequent_itemsets=frequent_itemsets[frequent_itemsets['length'] >= 2]\n",
    "#frequent_itemsets\n",
    "\n",
    "regras = association_rules(frequent_itemsets, metric='confidence', min_threshold=0.8)\n",
    "regras=regras.sort_values(by=['lift'], ascending = False).drop(['antecedent support', 'consequent support', 'leverage', 'conviction','zhangs_metric'], axis=1)\n",
    "\n",
    "regras"
   ]
  },
  {
   "cell_type": "markdown",
   "id": "36c99b63",
   "metadata": {},
   "source": [
    "### Análise de Cesta de Compras\n",
    "    Regra de Associação: Foi configurado para produtos que aparacem pelo menos em 1% dos dados sendo comprados juntos e com probabilidade de pelo menos 80% de serem comprados juntos (Essa configuração pode ser alterada)\n",
    "\n",
    "    Insight: Produtos como \"REGENCY TEA PLATE PINK\" e \"REGENCY TEA PLATE GREEN\" são frequentemente comprados juntos. Isso indica potencial para pacotes de produtos.\n",
    "    Ação: Criar pacotes promocionais com produtos que têm alta associação e oferecer descontos em compras combinadas. Isso pode aumentar o ticket médio das compras."
   ]
  },
  {
   "cell_type": "code",
   "execution_count": null,
   "id": "f7502563",
   "metadata": {},
   "outputs": [],
   "source": [
    "recomendacao = df.groupby(['CustomerID', 'Description'])['Description'].count().to_frame('Quantidade').reset_index()\n",
    "#O que mais pessoas diferentes compram (nem sempre os mais vendidos são os mais populares)\n",
    "mais_populares = df.groupby(['Description'])['Description'].count().to_frame('Quantidade').sort_values('Quantidade', ascending=False)"
   ]
  },
  {
   "cell_type": "code",
   "execution_count": null,
   "id": "e600c73e",
   "metadata": {},
   "outputs": [],
   "source": [
    "def recomendar_produtos(cliente_id, compare_com=5, max_usuarios_a_analisar=None, min_itens_em_comum=5):\n",
    "    # Obtém as compras do cliente escolhido\n",
    "    def obter_compras_do_cliente(cliente_id):\n",
    "        return recomendacao.query(f'CustomerID=={cliente_id}')[['Description', 'Quantidade']].set_index('Description')\n",
    "    \n",
    "    # Calcula a similaridade entre dois clientes\n",
    "    def calcular_distancia_entre_clientes(cliente_id1, cliente_id2):\n",
    "        compras_cliente1 = obter_compras_do_cliente(cliente_id1)\n",
    "        compras_cliente2 = obter_compras_do_cliente(cliente_id2)\n",
    "        itens_em_comum = compras_cliente1.join(compras_cliente2, lsuffix='_cliente1', rsuffix='_cliente2').dropna()\n",
    "        \n",
    "        if len(itens_em_comum) < min_itens_em_comum:\n",
    "            return None\n",
    "        \n",
    "        distancia = np.linalg.norm(itens_em_comum['Quantidade_cliente1'] - itens_em_comum['Quantidade_cliente2'])\n",
    "        return [cliente_id1, cliente_id2, distancia]\n",
    "    \n",
    "    # Calcula a distância entre o cliente e todos os outros clientes\n",
    "    def calcular_distancia_para_todos_os_clientes(cliente_id):\n",
    "        todos_os_clientes = recomendacao['CustomerID'].unique()\n",
    "        if max_usuarios_a_analisar:\n",
    "            todos_os_clientes = todos_os_clientes[:max_usuarios_a_analisar]\n",
    "        \n",
    "        distancias = [\n",
    "            calcular_distancia_entre_clientes(cliente_id, outro_cliente_id) \n",
    "            for outro_cliente_id in todos_os_clientes\n",
    "        ]\n",
    "        distancias = list(filter(None, distancias))\n",
    "        return pd.DataFrame(distancias, columns=['cliente_referencia', 'cliente_comparado', 'distancia'])\n",
    "    \n",
    "    # Encontra os clientes mais similares\n",
    "    def encontrar_clientes_mais_similares(cliente_id):\n",
    "        distancias = calcular_distancia_para_todos_os_clientes(cliente_id)\n",
    "        distancias = distancias.sort_values(\"distancia\")\n",
    "        return distancias.set_index(\"cliente_comparado\").drop(cliente_id, errors='ignore').head(compare_com)\n",
    "    \n",
    "    # Recomendação de produtos com base nos clientes mais similares\n",
    "    compras_cliente_referencia = obter_compras_do_cliente(cliente_id)\n",
    "    produtos_ja_comprados = compras_cliente_referencia.index\n",
    "\n",
    "    clientes_similares = encontrar_clientes_mais_similares(cliente_id)\n",
    "    ids_clientes_similares = clientes_similares.index\n",
    "    \n",
    "    compras_dos_similares = recomendacao.set_index('CustomerID').loc[ids_clientes_similares]\n",
    "    media_quantidades = compras_dos_similares.groupby('Description')[['Quantidade']].mean()\n",
    "    frequencia_aparicoes = compras_dos_similares.groupby('Description')[['Quantidade']].count() \n",
    "    \n",
    "    minimo_aparicoes = compare_com / 2\n",
    "    recomendacoes = media_quantidades.join(frequencia_aparicoes, lsuffix='_media', rsuffix='_aparicoes')\n",
    "    recomendacoes = recomendacoes.query(f'Quantidade_aparicoes >= {minimo_aparicoes}').sort_values('Quantidade_media', ascending=False).drop(produtos_ja_comprados, errors='ignore')\n",
    "    \n",
    "    if len(list(recomendacoes.index)) == 0:\n",
    "        # Clientes com poucas compras serão recomendados os produtos mais populares\n",
    "        recomendacoes = mais_populares.drop(produtos_ja_comprados, errors='ignore')\n",
    "        return list(recomendacoes.head(10).index)\n",
    "    else:\n",
    "        return list(recomendacoes.head(10).index)\n"
   ]
  },
  {
   "cell_type": "markdown",
   "id": "75343b27",
   "metadata": {},
   "source": [
    "##### Cliente com poucas compras"
   ]
  },
  {
   "cell_type": "code",
   "execution_count": null,
   "id": "fbc64765",
   "metadata": {},
   "outputs": [],
   "source": [
    "recomendar_produtos(12401.0)"
   ]
  },
  {
   "cell_type": "markdown",
   "id": "98d36918",
   "metadata": {},
   "source": [
    "##### Cliente com muitas compras"
   ]
  },
  {
   "cell_type": "code",
   "execution_count": null,
   "id": "195cdf59",
   "metadata": {},
   "outputs": [],
   "source": [
    "recomendar_produtos(12504.0)"
   ]
  },
  {
   "cell_type": "markdown",
   "id": "8f268228",
   "metadata": {},
   "source": [
    "### Sistema de Recomendação\n",
    "    Recomendação de produtos para um usuário específico com base nas compras de outros usuários com gosto parecido.\n",
    "\n",
    "    Insight: Se um cliente adicionar um item ao carrinho, como \"REGENCY TEA PLATE PINK,\" você pode recomendar \"REGENCY TEA PLATE GREEN\" e \"REGENCY TEA PLATE ROSES,\" que são frequentemente comprados juntos."
   ]
  },
  {
   "cell_type": "markdown",
   "id": "c2d8aa88",
   "metadata": {},
   "source": [
    "# Captar dados para as seguintes análises:"
   ]
  },
  {
   "cell_type": "markdown",
   "id": "aee810b5",
   "metadata": {},
   "source": [
    "* Análise de Feedback e Avaliações de Clientes\n",
    "               \n",
    "* Análise de Tempo de Navegação e Conversão\n",
    "               \n",
    "* Personalização de Experiência\n",
    "\n",
    "* Análise de Produtos com Alta Devolução\n",
    "       "
   ]
  }
 ],
 "metadata": {
  "kernelspec": {
   "display_name": "Python 3 (ipykernel)",
   "language": "python",
   "name": "python3"
  },
  "language_info": {
   "codemirror_mode": {
    "name": "ipython",
    "version": 3
   },
   "file_extension": ".py",
   "mimetype": "text/x-python",
   "name": "python",
   "nbconvert_exporter": "python",
   "pygments_lexer": "ipython3",
   "version": "3.11.7"
  }
 },
 "nbformat": 4,
 "nbformat_minor": 5
}
